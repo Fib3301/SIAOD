{
 "cells": [
  {
   "cell_type": "markdown",
   "metadata": {},
   "source": [
    "# Курсовая работа\n",
    "## Выполнил студент группы БФИ1902 Копытько Сергей Максимович"
   ]
  },
  {
   "cell_type": "markdown",
   "metadata": {},
   "source": [
    "### Задание №1. \"Треугольник с максимальным периметром\"\n",
    "Массив A состоит из целых положительных чисел - длин отрезков. Составьте из трех отрезков такой треугольник, чтобы его периметр был максимально возможным. Если невозможно\n",
    "составить треугольник с положительной площадью - функция возвращает 0"
   ]
  },
  {
   "cell_type": "code",
   "execution_count": 246,
   "metadata": {},
   "outputs": [
    {
     "name": "stdout",
     "output_type": "stream",
     "text": [
      "[82, 2, 18, 32, 15, 47, 25]\n",
      "[82, 47, 32, 25, 18, 15, 2]\n",
      "Стороны треугольника с максимальным периметром: 47 32 25\n",
      "Периметр = 104\n",
      "Площадь = 374.6998799039039\n"
     ]
    }
   ],
   "source": [
    "from random import randint\n",
    "from math import sqrt\n",
    "\n",
    "# Создание списка, его сортировка по возрастанию и вывод на экран\n",
    "arr = []\n",
    "r = randint(3, 10)\n",
    "for i in range(r):\n",
    "    arr.append(randint(1, 100)) # append добавляет элемент в список\n",
    "print(arr)\n",
    "arr.sort()\n",
    "arr.reverse()\n",
    "print(arr)\n",
    "\n",
    "def Triangle(arr):\n",
    "    # индексы трех самых больших значений отсортированного массива (т. е. самые первые)\n",
    "    el1 = 0 \n",
    "    el2 = 1\n",
    "    el3 = 2\n",
    "    counter = 0\n",
    "    \n",
    "    # проверка на существование треугольника\n",
    "    # пока три максимальных значения из списка не образуют треугольник, то удаляется максимальное значение \n",
    "    # и беруться следующии три максимальных значения  \n",
    "    while arr[el1] >= arr[el2] + arr[el3]:\n",
    "        del arr[0]\n",
    "        if len(arr) == 2:\n",
    "            break\n",
    "            \n",
    "    # вывод результата \n",
    "    if len(arr) > 2:\n",
    "        print(\"Стороны треугольника с максимальным периметром:\", arr[el1], arr[el2], arr[el3])\n",
    "        p = arr[el3] + arr[el2] + arr[el1]\n",
    "        print(\"Периметр =\", p)\n",
    "        pol = p / 2\n",
    "        s = sqrt(pol * (pol - arr[el3]) * (pol - arr[el2]) * (pol - arr[el1]))\n",
    "        if s <= 0:\n",
    "            print(\"Площадь = 0\")\n",
    "        else:\n",
    "            print(\"Площадь =\", s)\n",
    "    else:\n",
    "        print(\"В данном массиве не существует треугольников!\")\n",
    "\n",
    "\n",
    "Triangle(arr)"
   ]
  },
  {
   "cell_type": "markdown",
   "metadata": {},
   "source": [
    "### Задача №2. \"Максимальное число\"\n",
    "Дан массив неотрицательных целых чисел nums. Расположите их в таком порядке, чтобы\n",
    "вместе они образовали максимально возможное число."
   ]
  },
  {
   "cell_type": "code",
   "execution_count": 354,
   "metadata": {},
   "outputs": [
    {
     "name": "stdout",
     "output_type": "stream",
     "text": [
      "[6, 60, 64, 5, 9, 61, 67]\n",
      "9 67 6 64 61 60 5\n",
      "Wall time: 0 ns\n"
     ]
    }
   ],
   "source": [
    "%%time\n",
    "from random import randint\n",
    "\n",
    "# Создание списка, его сортировка по возрастанию и вывод на экран\n",
    "arr = []\n",
    "r = randint(1, 10)\n",
    "for i in range(r):\n",
    "    arr.append(randint(1, 30)) # append добавляет элемент в список\n",
    "print(arr)\n",
    "\n",
    "# разбивает число на цифры\n",
    "def NumberArray(num):\n",
    "    num_arr = []\n",
    "    while num > 0:\n",
    "        num_arr.append(num % 10)\n",
    "        num = num // 10\n",
    "    num_arr = list(reversed(num_arr))\n",
    "    num_arr.append(None)  \n",
    "    return num_arr\n",
    "        \n",
    "D, L, R = 'data', 'left', 'right'\n",
    "\n",
    "def BinaryTree(tree, data):\n",
    "    if tree is None:\n",
    "        tree = {D: data, L: None, R: None}\n",
    "    else:  \n",
    "        if tree[D] == data: #если число data равно tree[D], то обьеденеям tree[D] и data\n",
    "            tree[D] = int(str(data) + str(data))\n",
    "            return tree\n",
    "        num1 = NumberArray(tree[D])\n",
    "        num2 = NumberArray(data)\n",
    "        i=-1\n",
    "        while num1[i] == num2[i]:\n",
    "            i+=1  \n",
    "            if num2[i] == None and num1[i] >= num2[i-1]: #если в tree[D] больше цифр, чем в data (334 и 33)\n",
    "                tree[R] = BinaryTree(tree[R], data)\n",
    "            elif num2[i] == None and num1[i] < num2[i-1]: #если в tree[D] больше цифр, чем в data (332 и 33)\n",
    "                tree[L] = BinaryTree(tree[L], data)\n",
    "            elif num1[i] == None and num2[i] >= num1[i-1]: #если в tree[D] меньеше цифр, чем в data (33 и 334)\n",
    "                tree[L] = BinaryTree(tree[L], data)\n",
    "            elif num1[i] == None and num2[i] < num1[i-1]: #если в tree[D] меньеше цифр, чем в data (33 и 332)\n",
    "                tree[R] = BinaryTree(tree[R], data)\n",
    "                \n",
    "            elif num1[i] > num2[i]: #если цифра в tree[D] больше, чем в data (34 и 33)\n",
    "                tree[R] = BinaryTree(tree[R], data)\n",
    "            elif num1[i] < num2[i]: #если цифра в tree[D] больше, чем в data (32 и 33)\n",
    "                tree[L] = BinaryTree(tree[L], data)\n",
    "    return tree\n",
    "\n",
    "tree = None\n",
    "for el in arr:\n",
    "    tree = BinaryTree(tree, el)\n",
    "    \n",
    "def traverse(tree): #вывод дерева\n",
    "    if tree is not None:\n",
    "        for data in traverse(tree[L]):\n",
    "            yield data\n",
    "        yield tree[D]\n",
    "        for data in traverse(tree[R]):\n",
    "            yield data\n",
    "            \n",
    "print(*traverse(tree))"
   ]
  },
  {
   "cell_type": "markdown",
   "metadata": {},
   "source": [
    "### Задача №3. \"Сортировка диагоналей в матрице\"\n",
    "Дана матрица mat размером m * n, значения - целочисленные. Напишите функцию, сортирующую каждую диагональ матрицы по возрастанию и возвращающую получившуюся матрицу"
   ]
  },
  {
   "cell_type": "code",
   "execution_count": 350,
   "metadata": {},
   "outputs": [
    {
     "name": "stdout",
     "output_type": "stream",
     "text": [
      "Матрица:\n",
      "[17, 21, 35, 24, 59, 7, 39, 46]\n",
      "[53, 21, 26, 35, 27, 70, 36, 68]\n",
      "[27, 63, 76, 62, 46, 30, 78, 70]\n",
      "[26, 37, 73, 85, 81, 60, 45, 99]\n",
      "[56, 36, 58, 89, 90, 84, 69, 69]\n",
      "\n",
      "Отсортированная матрица: \n",
      "[17, 21, 35, 24, 59, 7, 39, 46]\n",
      "[53, 21, 26, 35, 27, 70, 36, 68]\n",
      "[27, 63, 76, 62, 46, 30, 78, 70]\n",
      "[26, 37, 73, 85, 81, 60, 45, 99]\n",
      "[56, 36, 58, 89, 90, 84, 69, 69]\n",
      "Wall time: 0 ns\n"
     ]
    }
   ],
   "source": [
    "%%time\n",
    "def sort_d(matrix):\n",
    "    m, n = len(matrix), len(matrix[0])\n",
    "    temp = [[] for i in range(m+n)]\n",
    "    # Добавляем каждую диагональ в массив t\n",
    "    for i in range(m):\n",
    "        for j in range(n):\n",
    "            temp[i - j].append(matrix[i][j])\n",
    "    # Сортируем каждую диагональ массива\n",
    "    for line in temp:\n",
    "        line.sort(reverse = True)\n",
    "    # \"Линии\" в диагонали матрицы\n",
    "    for i in range(m):\n",
    "        for j in range(n):\n",
    "            # pop() удаляет последний элемент массива и возвращает его\n",
    "            matrix[i][j] = temp[i-j].pop()\n",
    "    return matrix\n",
    "\n",
    "\n",
    "mat = [[76, 62, 69, 30, 59, 70, 39, 46], [63, 85, 26, 35, 27, 78, 36, 68], [58, 73, 90, 21, 35, 24, 70,  7], [26, 37, 89, 17, 84, 60, 45, 99], [56, 36, 27, 53, 21, 81, 46, 69,]]\n",
    "print(\"Матрица:\")\n",
    "for l in arr:\n",
    "    print(l) \n",
    "print(\"\\nОтсортированная матрица: \")\n",
    "mat = sort_d(mat)\n",
    "for l in arr:\n",
    "    print(l)"
   ]
  },
  {
   "cell_type": "markdown",
   "metadata": {},
   "source": [
    "### Задача №4. «Шарики и стрелы»\n",
    "Некоторые сферические шарики распределены по двухмерному пространству. Для каждого\n",
    "шарика даны x­координаты начала и конца его горизонтального диаметра. Так как пространство\n",
    "двумерно, то y­координаты не имеют значения в данной задаче. Координата xstart всегда меньше\n",
    "xend.\n",
    "Стрелу можно выстрелить строго вертикально (вдоль y­оси) из разных точек x­оси. Шарик\n",
    "с координатами xstart и xend уничтожается стрелой, если она была выпущена из такой позиции\n",
    "x, что xstart ⩽ x ⩽ xend. Когда стрела выпущена, она летит в пространстве бесконечное время\n",
    "(уничтожая все шарики на пути).\n",
    "Дан массив points, где points[i] = [xstart, xend]. Напишите функцию, возвращающую минимальное количество стрел, которые нужно выпустить, чтобы уничтожить все шарики"
   ]
  },
  {
   "cell_type": "code",
   "execution_count": 358,
   "metadata": {},
   "outputs": [
    {
     "name": "stdout",
     "output_type": "stream",
     "text": [
      "[[2, 3], [2, 4], [6, 7], [7, 8]]\n",
      "2\n",
      "Wall time: 1 ms\n"
     ]
    }
   ],
   "source": [
    "%%time\n",
    "class shariki:\n",
    "    def __init__(self, mass):\n",
    "        self.mass=mass\n",
    "        self.count=1\n",
    "    \n",
    "    def search(self):\n",
    "        if len(self.mass)==0: # проверка на 0\n",
    "            self.count=0\n",
    "        else:\n",
    "            m=0\n",
    "            for i in range(len(self.mass)):\n",
    "                self.mass.sort() # сортирует массив координат\n",
    "            print(self.mass)\n",
    "            for i in range(len(self.mass)-1):\n",
    "                if self.mass[m][1]<self.mass[i+1][0]: # условие, если граница 2-го шарика за пределами 1-го\n",
    "                    self.count=self.count+1 # если шарики не входят, то прибавляет кол-во стрел\n",
    "                    m=i+1 \n",
    "                elif self.mass[m][0]<=self.mass[i+1][0] and self.mass[m][1]>=self.mass[i+1][1]: # если 2 шарик входит в 1, то переключается на 2\n",
    "                       m=i+1\n",
    "                    \n",
    "        return self.count\n",
    "            \n",
    "arr = [[2,3],[2,4],[6,7],[7,8]]        \n",
    "a = shariki(arr)\n",
    "print(a.search())"
   ]
  },
  {
   "cell_type": "markdown",
   "metadata": {},
   "source": [
    "### Задача №5. «Стопки монет»\n",
    "На столе стоят 3n стопок монет. Вы и ваши друзья Алиса и Боб забираете стопки монет по\n",
    "следующему алгоритму:\n",
    "1. Вы выбираете 3 стопки монет из оставшихся на столе.\n",
    "2. Алиса забирает себе стопку с максимальным количеством монет.\n",
    "3. Вы забираете одну из двух оставшихся стопок.\n",
    "4. Боб забирает последнюю стопку.\n",
    "5. Если еще остались стопки, то действия повторяются с первого шага.\n",
    "\n",
    "Дан массив целых положительных чисел piles. Напишите функцию, возвращающую максимальное число монет, которое вы можете получить."
   ]
  },
  {
   "cell_type": "code",
   "execution_count": 371,
   "metadata": {},
   "outputs": [
    {
     "name": "stdout",
     "output_type": "stream",
     "text": [
      "Wall time: 0 ns\n"
     ]
    },
    {
     "data": {
      "text/plain": [
       "22"
      ]
     },
     "execution_count": 371,
     "metadata": {},
     "output_type": "execute_result"
    }
   ],
   "source": [
    "%%time\n",
    "def Coins(arr):\n",
    "    arr.sort() # Сортируем массив\n",
    "    a = len(arr)//3 # Целочисленное деление длины на 3\n",
    "    me = 0\n",
    "    while a < len(arr):\n",
    "        me = me + arr[a]\n",
    "        a = a + 2\n",
    "    return (me)\n",
    "Coins([1,1,1,3,8,9,10,10,11])"
   ]
  },
  {
   "cell_type": "markdown",
   "metadata": {},
   "source": [
    "### Задача №6.\n",
    "Даны две строки: s1 и s2 с одинаковым размером, проверьте, может ли\n",
    "некоторая перестановка строки s1 “победить” некоторую перестановку\n",
    "строки s2 или наоборот.\n",
    "Строка x может “победить” строку y (обе имеют размер n), если x[i]> = y\n",
    "[i] (в алфавитном порядке) для всех i от 0 до n-1"
   ]
  },
  {
   "cell_type": "code",
   "execution_count": 396,
   "metadata": {},
   "outputs": [
    {
     "name": "stdout",
     "output_type": "stream",
     "text": [
      "True\n",
      "False\n",
      "Wall time: 0 ns\n"
     ]
    }
   ],
   "source": [
    "%%time\n",
    "def win(str1, str2):\n",
    "    sorted1 = ''.join(sorted(str1));\n",
    "    sorted2 = ''.join(sorted(str2));\n",
    "    firstWon = True; secondWon = True;\n",
    "    \n",
    "    for i in range(0, len(sorted1)):\n",
    "        if not (sorted1[i] >= sorted2[i]):\n",
    "            firstWon = False\n",
    "            break;\n",
    "    \n",
    "    if not firstWon:\n",
    "        for i in range(0, len(sorted1)):\n",
    "            if not(sorted2[i] >= sorted1[i]):\n",
    "                secondWon = False\n",
    "                break;\n",
    "    else: secondWon = False\n",
    "    \n",
    "    return (firstWon or secondWon)\n",
    "print(win('xzy', 'zyx'))\n",
    "print(win('abz', 'bcx'))"
   ]
  },
  {
   "cell_type": "markdown",
   "metadata": {},
   "source": [
    "### Задача №7\n",
    "Дана строка s, вернуть самую длинную полиндромную подстроку в s.\n"
   ]
  },
  {
   "cell_type": "code",
   "execution_count": 408,
   "metadata": {},
   "outputs": [
    {
     "name": "stdout",
     "output_type": "stream",
     "text": [
      "Введите строку: ffffhs\n",
      "Самый длинный палиндром:\n",
      "ffff\n",
      "Wall time: 7.13 s\n"
     ]
    }
   ],
   "source": [
    "%%time\n",
    "s = input(\"Введите строку: \")\n",
    "Output = \"\"\n",
    "for i in range(len(s)):\n",
    "    for j in range(0, i):\n",
    "        sub = s[j:i + 1]\n",
    "        if sub == sub[::-1]: \n",
    "            if len(sub) > len(Output):\n",
    "                Output = sub\n",
    "print(\"Самый длинный палиндром:\")\n",
    "print(Output)"
   ]
  },
  {
   "cell_type": "markdown",
   "metadata": {},
   "source": [
    "### Задача №7\n",
    "Вернуть количество отдельных непустых подстрок текста, которые могут\n",
    "быть записаны как конкатенация некоторой строки с самой собой (т.е. она\n",
    "может быть записана, как a + a, где a - некоторая строка).\n"
   ]
  },
  {
   "cell_type": "code",
   "execution_count": 429,
   "metadata": {},
   "outputs": [
    {
     "name": "stdout",
     "output_type": "stream",
     "text": [
      "Введите строку: aabbaabb\n",
      "Конкатенаций нашлось: 3\n",
      "Wall time: 7.15 s\n"
     ]
    }
   ],
   "source": [
    "%%time\n",
    "def dist(text):\n",
    "    result = set()\n",
    "    for l in range(1, len(text)//2+1):\n",
    "        count = sum(text[i] == text[i+l] for i in range(l))\n",
    "        for i in range(len(text)-2*l):\n",
    "            if count == l:\n",
    "                result.add(text[i:i+l])\n",
    "            count += (text[i+l] == text[i+l+l]) - (text[i] == text[i+l])\n",
    "        if count == l:\n",
    "            result.add(text[len(text)-2*l:len(text)-2*l+l])\n",
    "    return len(result)\n",
    "\n",
    "text = input(\"Введите строку: \")\n",
    "print(\"Конкатенаций нашлось:\", dist(\"aabbaabb\"))"
   ]
  },
  {
   "cell_type": "markdown",
   "metadata": {},
   "source": [
    "### Вывод:\n",
    "В ходе курсовой работы я научился решать 9 различных задач на языке программирования Python 3 в Jupyter Notebook, направленных на освоение различных тем и компетенций в данном языке программирования."
   ]
  }
 ],
 "metadata": {
  "kernelspec": {
   "display_name": "Python 3",
   "language": "python",
   "name": "python3"
  },
  "language_info": {
   "codemirror_mode": {
    "name": "ipython",
    "version": 3
   },
   "file_extension": ".py",
   "mimetype": "text/x-python",
   "name": "python",
   "nbconvert_exporter": "python",
   "pygments_lexer": "ipython3",
   "version": "3.8.5"
  }
 },
 "nbformat": 4,
 "nbformat_minor": 4
}
